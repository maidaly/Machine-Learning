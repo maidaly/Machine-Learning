{
 "cells": [
  {
   "cell_type": "code",
   "execution_count": 2,
   "metadata": {},
   "outputs": [
    {
     "name": "stderr",
     "output_type": "stream",
     "text": [
      "Using TensorFlow backend.\n"
     ]
    }
   ],
   "source": [
    "import h5py\n",
    "import numpy as np\n",
    "import os\n",
    "import keras\n",
    "from keras.models import Sequential\n",
    "from keras.layers import Dense, Dropout, Activation, Flatten, Conv2D, MaxPooling2D\n",
    "import pandas as pd\n",
    "from keras import backend as K\n",
    "\n",
    "import tensorflow as tf\n",
    "from tensorflow.python.tools import freeze_graph\n",
    "from tensorflow.python.tools import optimize_for_inference_lib"
   ]
  },
  {
   "cell_type": "code",
   "execution_count": 3,
   "metadata": {
    "collapsed": true
   },
   "outputs": [],
   "source": [
    "MODEL_NAME = 'arabic_digits_classifier_keras'\n",
    "EPOCHS = 4\n",
    "BATCH_SIZE = 200\n",
    "IMAGE_SIZE = 28\n",
    "NUM_CLASSES = 10"
   ]
  },
  {
   "cell_type": "code",
   "execution_count": 4,
   "metadata": {
    "collapsed": true
   },
   "outputs": [],
   "source": [
    "TRAIN_DIR = \"E:\\\\DataSets\\\\MAHDBase_TrainingSet\\\\TrainingSet.csv\"\n",
    "TEST_DIR = \"E:\\\\DataSets\\\\MAHDBase_TrainingSet\\\\TestSet.csv\"\n",
    "LABELS_DIR = \"E:\\\\DataSets\\\\MAHDBase_TrainingSet\\\\TrainingLabelsOnehot.csv\"\n",
    "TEST_LABELS_DIR = \"E:\\\\DataSets\\\\MAHDBase_TrainingSet\\\\TestLabelsOnehot.csv\"\n",
    "data_x= pd.read_csv(TRAIN_DIR, header= None)\n",
    "data_test = pd.read_csv(TEST_DIR, header= None)\n",
    "data_y = pd.read_csv(LABELS_DIR, header= None)\n",
    "data_y_test = pd.read_csv(TEST_LABELS_DIR, header= None)\n",
    "\n",
    "#X = np.genfromtxt (TRAIN_DIR, delimiter=',')\n",
    "X = np.array(data_x.values)\n",
    "Y = np.array(data_y.values)\n",
    "X_test = np.array(data_test.values)\n",
    "Y_test = np.array(data_y_test.values)"
   ]
  },
  {
   "cell_type": "code",
   "execution_count": 17,
   "metadata": {
    "collapsed": true
   },
   "outputs": [],
   "source": [
    "def prepare_data():\n",
    "\n",
    "    x_train = X.reshape(X.shape[0], IMAGE_SIZE, IMAGE_SIZE, 1)\n",
    "    x_test = X_test.reshape(X_test.shape[0], IMAGE_SIZE, IMAGE_SIZE, 1)\n",
    "    x_train = x_train.astype('float32')\n",
    "    x_test = x_test.astype('float32')\n",
    "    x_train /= 255\n",
    "    x_test /= 255\n",
    "    y_train = Y\n",
    "    y_test = Y_test\n",
    "    return x_train, y_train, x_test, y_test\n"
   ]
  },
  {
   "cell_type": "code",
   "execution_count": 7,
   "metadata": {
    "collapsed": true
   },
   "outputs": [],
   "source": [
    "def build_model():\n",
    "    model = Sequential()\n",
    "    model.add(Conv2D(filters=64, kernel_size=3, strides=1, padding='same', activation='relu', input_shape=[IMAGE_SIZE, IMAGE_SIZE, 1]))\n",
    "    # 28*28*64\n",
    "    model.add(MaxPooling2D(pool_size=2, strides=2, padding='same'))\n",
    "    # 14*14*64\n",
    "\n",
    "    model.add(Conv2D(filters=128, kernel_size=3, strides=1, padding='same', activation='relu'))\n",
    "    # 14*14*128\n",
    "    model.add(MaxPooling2D(pool_size=2, strides=2, padding='same'))\n",
    "    # 7*7*128\n",
    "\n",
    "    model.add(Conv2D(filters=256, kernel_size=3, strides=1, padding='same', activation='relu'))\n",
    "    # 7*7*256\n",
    "    model.add(MaxPooling2D(pool_size=2, strides=2, padding='same'))\n",
    "    # 4*4*256\n",
    "\n",
    "    model.add(Flatten())\n",
    "    model.add(Dense(1024, activation='relu'))\n",
    "    #model.add(Dropout(0.5))\n",
    "    model.add(Dense(10, activation='softmax'))\n",
    "    return model"
   ]
  },
  {
   "cell_type": "code",
   "execution_count": 8,
   "metadata": {
    "collapsed": true
   },
   "outputs": [],
   "source": [
    "def train(model, x_train, y_train, x_test, y_test):\n",
    "    model.compile(loss=keras.losses.categorical_crossentropy, optimizer=keras.optimizers.Adadelta(),  metrics=['accuracy'])\n",
    "    model.fit(x_train, y_train, batch_size=BATCH_SIZE, epochs=EPOCHS, verbose=1, validation_data=(x_test, y_test))"
   ]
  },
  {
   "cell_type": "code",
   "execution_count": 9,
   "metadata": {
    "collapsed": true
   },
   "outputs": [],
   "source": [
    "def export_model(saver, model, input_node_names, output_node_name):\n",
    "    model.save(MODEL_NAME +'.h5')\n",
    "    tf.train.write_graph(K.get_session().graph_def, 'out', \\\n",
    "        MODEL_NAME + '_graph.pbtxt')\n",
    "\n",
    "    saver.save(K.get_session(), 'out/' + MODEL_NAME + '.chkp')\n",
    "\n",
    "    freeze_graph.freeze_graph('out/' + MODEL_NAME + '_graph.pbtxt', None, \\\n",
    "        False, 'out/' + MODEL_NAME + '.chkp', output_node_name, \\\n",
    "        \"save/restore_all\", \"save/Const:0\", \\\n",
    "        'out/frozen_' + MODEL_NAME + '.pb', True, \"\")\n",
    "\n",
    "    input_graph_def = tf.GraphDef()\n",
    "    with tf.gfile.Open('out/frozen_' + MODEL_NAME + '.pb', \"rb\") as f:\n",
    "        input_graph_def.ParseFromString(f.read())\n",
    "\n",
    "    output_graph_def = optimize_for_inference_lib.optimize_for_inference(\n",
    "            input_graph_def, input_node_names, [output_node_name],\n",
    "            tf.float32.as_datatype_enum)\n",
    "\n",
    "    with tf.gfile.FastGFile('out/opt_' + MODEL_NAME + '.pb', \"wb\") as f:\n",
    "        f.write(output_graph_def.SerializeToString())\n",
    "\n",
    "    print(\"graph saved!\")\n",
    "\n",
    "\n"
   ]
  },
  {
   "cell_type": "code",
   "execution_count": 10,
   "metadata": {
    "collapsed": true
   },
   "outputs": [],
   "source": [
    "def main():\n",
    "    if not os.path.exists('out'):\n",
    "        os.mkdir('out')\n",
    "\n",
    "    x_train, y_train, x_test, y_test = prepare_data()\n",
    "\n",
    "    model = build_model()\n",
    "\n",
    "    train(model, x_train, y_train, x_test, y_test)\n",
    "\n",
    "    export_model(tf.train.Saver(), model, [\"conv2d_1_input\"], \"dense_2/Softmax\")"
   ]
  },
  {
   "cell_type": "code",
   "execution_count": 11,
   "metadata": {
    "scrolled": true
   },
   "outputs": [
    {
     "name": "stdout",
     "output_type": "stream",
     "text": [
      "Train on 55000 samples, validate on 5000 samples\n",
      "Epoch 1/4\n",
      "55000/55000 [==============================] - 510s 9ms/step - loss: 0.7186 - acc: 0.7861 - val_loss: 0.1400 - val_acc: 0.9602\n",
      "Epoch 2/4\n",
      "55000/55000 [==============================] - 498s 9ms/step - loss: 0.0725 - acc: 0.9789 - val_loss: 0.0725 - val_acc: 0.9764\n",
      "Epoch 3/4\n",
      "55000/55000 [==============================] - 494s 9ms/step - loss: 0.0485 - acc: 0.9857 - val_loss: 0.0744 - val_acc: 0.9768\n",
      "Epoch 4/4\n",
      "55000/55000 [==============================] - 493s 9ms/step - loss: 0.0397 - acc: 0.9880 - val_loss: 0.0548 - val_acc: 0.9840\n",
      "INFO:tensorflow:Restoring parameters from out/arabic_digits_classifier_keras.chkp\n",
      "INFO:tensorflow:Froze 10 variables.\n",
      "Converted 10 variables to const ops.\n",
      "graph saved!\n"
     ]
    }
   ],
   "source": [
    "main()"
   ]
  },
  {
   "cell_type": "code",
   "execution_count": null,
   "metadata": {
    "collapsed": true
   },
   "outputs": [],
   "source": []
  }
 ],
 "metadata": {
  "kernelspec": {
   "display_name": "Python 3",
   "language": "python",
   "name": "python3"
  },
  "language_info": {
   "codemirror_mode": {
    "name": "ipython",
    "version": 3
   },
   "file_extension": ".py",
   "mimetype": "text/x-python",
   "name": "python",
   "nbconvert_exporter": "python",
   "pygments_lexer": "ipython3",
   "version": "3.6.3"
  }
 },
 "nbformat": 4,
 "nbformat_minor": 2
}
